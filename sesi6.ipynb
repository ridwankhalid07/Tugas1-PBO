{
  "nbformat": 4,
  "nbformat_minor": 0,
  "metadata": {
    "colab": {
      "provenance": [],
      "authorship_tag": "ABX9TyObCvVJQqAA6XIJCdFdkqFZ",
      "include_colab_link": true
    },
    "kernelspec": {
      "name": "python3",
      "display_name": "Python 3"
    },
    "language_info": {
      "name": "python"
    }
  },
  "cells": [
    {
      "cell_type": "markdown",
      "metadata": {
        "id": "view-in-github",
        "colab_type": "text"
      },
      "source": [
        "<a href=\"https://colab.research.google.com/github/ridwankhalid07/Tugas1-PBO/blob/main/sesi6.ipynb\" target=\"_parent\"><img src=\"https://colab.research.google.com/assets/colab-badge.svg\" alt=\"Open In Colab\"/></a>"
      ]
    },
    {
      "cell_type": "code",
      "execution_count": null,
      "metadata": {
        "id": "G5W_GY6bytwh"
      },
      "outputs": [],
      "source": [
        "# ===== Program Sederhana Membuat Tuple =====\n",
        "stup1 = ('bahasa arab', 'bahasa aceh', 2019, 2020)\n",
        "stup2 = (1, 2, 3, 4, 5, 6, 7, 8)\n",
        "stup3 = \"e\", \"f\", \"g\", \"h\"\n",
        "\n",
        "# Mengakses nilai pada variabel ketiga tuple di atas\n",
        "print(\"stup1[1]: \", stup1[1])\n",
        "print(\"stup2[1:5]: \", stup2[1:5])\n",
        "\n",
        "\n",
        "# ===== Mengakses Nilai Tuple =====\n",
        "ach = (\"Mie Aceh\", 10000, 3.5, True, 'AyamPramugari', 88j)\n",
        "\n",
        "print(\"ach[0]:\", ach[0])       # Data pertama indeks 0\n",
        "print(\"ach[1]:\", ach[1])       # Data kedua indeks 1\n",
        "print(\"ach[2]:\", ach[2])       # Data ketiga indeks 2\n",
        "print(\"ach[2:5]:\", ach[2:5])   # Data antara indeks 2 dan 5\n",
        "print(\"ach[:3]:\", ach[:3])     # Data dari indeks 0 sampai 2\n",
        "print(\"ach[3:]:\", ach[3:])     # Data dari indeks 3 sampai akhir\n",
        "print(\"ach[:]:\", ach[:])       # Semua data\n",
        "\n",
        "\n",
        "# ===== Membuat Tuple dari Kumpulan Tuple =====\n",
        "stup1 = (10, 5.78)\n",
        "stup2 = ('def', 'opq')\n",
        "\n",
        "# Tuple bersifat immutable, jadi tidak bisa diubah langsung\n",
        "# stup1[0] = 100  # Ini akan error jika dijalankan\n",
        "\n",
        "# Jadi, buat tuple baru dengan penggabungan tuple\n",
        "stup3 = stup1 + stup2\n",
        "print(stup3)\n",
        "\n",
        "# Menghapus variabel stup3\n",
        "del stup3\n",
        "print(\"setelah dihapus stup3 variabel\")\n"
      ]
    }
  ]
}