{
  "nbformat": 4,
  "nbformat_minor": 0,
  "metadata": {
    "colab": {
      "provenance": [],
      "toc_visible": true,
      "authorship_tag": "ABX9TyOBr0uYPedFuoEK0UqdbKsC",
      "include_colab_link": true
    },
    "kernelspec": {
      "name": "python3",
      "display_name": "Python 3"
    },
    "language_info": {
      "name": "python"
    }
  },
  "cells": [
    {
      "cell_type": "markdown",
      "metadata": {
        "id": "view-in-github",
        "colab_type": "text"
      },
      "source": [
        "<a href=\"https://colab.research.google.com/github/ridwankhalid07/Tugas1-PBO/blob/main/sesi1.ipynb\" target=\"_parent\"><img src=\"https://colab.research.google.com/assets/colab-badge.svg\" alt=\"Open In Colab\"/></a>"
      ]
    },
    {
      "cell_type": "code",
      "execution_count": null,
      "metadata": {
        "colab": {
          "base_uri": "https://localhost:8080/"
        },
        "id": "80UaAAfnrn_h",
        "outputId": "5ccc9131-0e49-4ef3-aa41-8c04624782ba"
      },
      "outputs": [
        {
          "output_type": "stream",
          "name": "stdout",
          "text": [
            "Hendri Ahmadian\n",
            "Department of Information Technology\n",
            "UIN Ar-Raniry\n",
            "Jalan Syech Abdurrauf Kopelma Darussalam\n",
            "Banda Aceh 23111\n",
            "Indonesia\n",
            "\n",
            "==================================================\n",
            "\n"
          ]
        }
      ],
      "source": [
        "# =========================\n",
        "# Menampilkan Alamat\n",
        "# =========================\n",
        "\n",
        "print(\"Hendri Ahmadian\")\n",
        "print(\"Department of Information Technology\")\n",
        "print(\"UIN Ar-Raniry\")\n",
        "print(\"Jalan Syech Abdurrauf Kopelma Darussalam\")\n",
        "print(\"Banda Aceh 23111\")\n",
        "print(\"Indonesia\")\n",
        "\n",
        "print(\"\\n\" + \"=\"*50 + \"\\n\")\n",
        "\n",
        "# =========================\n",
        "# Menghitung Luas Kamar\n",
        "# =========================\n",
        "\n",
        "# Input panjang dan lebar\n",
        "panjang = float(input(\"Masukkan ukuran panjang dalam satuan meter: \"))\n",
        "lebar = float(input(\"Masukkan ukuran lebar dalam satuan meter: \"))\n",
        "\n",
        "# Hitung luas\n",
        "luas = panjang * lebar\n",
        "\n",
        "# Tampilkan hasil\n",
        "print(\"Luas dari kamar ini adalah\", luas, \"meter kuadrat\")\n",
        "\n",
        "print(\"\\n\" + \"=\"*50 + \"\\n\")\n",
        "\n",
        "# =========================\n",
        "# Menghitung Jumlah Bilangan Positif Pertama\n",
        "# =========================\n",
        "\n",
        "n = int(input(\"Masukkan bilangan bulat positif: \"))\n",
        "\n",
        "# Rumus jumlah: n*(n+1)/2\n",
        "sm = n * (n + 1) / 2\n",
        "\n",
        "print(\"Jumlah pertama dari\", n, \"bilangan positif adalah\", sm)\n",
        "\n",
        "print(\"\\n\" + \"=\"*50 + \"\\n\")\n",
        "\n",
        "# =========================\n",
        "# Pengenalan Operator Matematika & Fungsi Math\n",
        "# =========================\n",
        "\n",
        "from math import log10\n",
        "\n",
        "# Input angka\n",
        "x = int(input(\"Masukkan bilangan dari x: \"))\n",
        "y = int(input(\"Masukkan bilangan dari y: \"))\n",
        "\n",
        "# Operasi dasar\n",
        "print(x, \"+\", y, \"=\", x + y)\n",
        "print(x, \"-\", y, \"=\", x - y)\n",
        "print(x, \"*\", y, \"=\", x * y)\n",
        "print(x, \"/\", y, \"=\", x / y)\n",
        "print(x, \"%\", y, \"=\", x % y)\n",
        "\n",
        "# Fungsi lanjutan\n",
        "print(\"Logaritma basis 10 dari\", x, \"=\", log10(x))\n",
        "print(x, \"^\", y, \"=\", x ** y)\n"
      ]
    }
  ]
}