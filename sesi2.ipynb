{
  "nbformat": 4,
  "nbformat_minor": 0,
  "metadata": {
    "colab": {
      "provenance": [],
      "authorship_tag": "ABX9TyPhxdzsKO67KY5nmBy6QgoN",
      "include_colab_link": true
    },
    "kernelspec": {
      "name": "python3",
      "display_name": "Python 3"
    },
    "language_info": {
      "name": "python"
    }
  },
  "cells": [
    {
      "cell_type": "markdown",
      "metadata": {
        "id": "view-in-github",
        "colab_type": "text"
      },
      "source": [
        "<a href=\"https://colab.research.google.com/github/ridwankhalid07/Tugas1-PBO/blob/main/sesi2.ipynb\" target=\"_parent\"><img src=\"https://colab.research.google.com/assets/colab-badge.svg\" alt=\"Open In Colab\"/></a>"
      ]
    },
    {
      "cell_type": "code",
      "execution_count": null,
      "metadata": {
        "id": "F_Q-DzrkuD3V"
      },
      "outputs": [],
      "source": [
        "# --- Program Menentukan Ganjil atau Genap ---\n",
        "bil = int(input(\"Masukkan sebuah bilangan: \"))\n",
        "if bil % 2 == 0:\n",
        "    print(bil, \"adalah bilangan genap\")\n",
        "else:\n",
        "    print(bil, \"adalah bilangan ganjil\")\n",
        "\n",
        "\n",
        "# --- Program Menentukan Huruf Vokal atau Konsonan ---\n",
        "huruf = input(\"\\nMasukkan sebuah huruf dari abjad: \").lower()\n",
        "\n",
        "if huruf in ['a', 'e', 'i', 'o', 'u']:\n",
        "    print(\"Ini adalah vokal.\")\n",
        "elif huruf == 'y':\n",
        "    print(\"Kadang vokal...kadang konsonan\")\n",
        "elif huruf.isalpha():\n",
        "    print(\"Ini adalah konsonan.\")\n",
        "else:\n",
        "    print(\"Input bukan huruf.\")\n",
        "\n",
        "\n",
        "# --- Program Menentukan Nama Bangun Geometri dari Jumlah Sisi ---\n",
        "sisi = int(input(\"\\nMasukkan jumlah sisinya: \"))\n",
        "nama = \"\"\n",
        "\n",
        "if sisi == 3:\n",
        "    nama = \"triangle\"\n",
        "elif sisi == 4:\n",
        "    nama = \"quadrilateral\"\n",
        "elif sisi == 5:\n",
        "    nama = \"pentagon\"\n",
        "elif sisi == 6:\n",
        "    nama = \"hexagon\"\n",
        "elif sisi == 7:\n",
        "    nama = \"heptagon\"\n",
        "elif sisi == 8:\n",
        "    nama = \"octagon\"\n",
        "elif sisi == 9:\n",
        "    nama = \"nonagon\"\n",
        "elif sisi == 10:\n",
        "    nama = \"decagon\"\n",
        "\n",
        "if nama:\n",
        "    print(\"Ini adalah\", nama)\n",
        "else:\n",
        "    print(\"Jumlah sisi yang diinput tidak ada dalam database.\")\n",
        "\n",
        "\n",
        "# --- Program Menentukan Musim Berdasarkan Bulan dan Tanggal ---\n",
        "bulan = input(\"\\nMasukkan nama bulan: \").capitalize()\n",
        "tgl = int(input(\"Masukkan tanggal di bulan tersebut: \"))\n",
        "\n",
        "musim = \"\"\n",
        "\n",
        "if bulan in [\"Januari\", \"Februari\"]:\n",
        "    musim = \"Winter\"\n",
        "elif bulan == \"Maret\":\n",
        "    musim = \"Winter\" if tgl < 20 else \"Spring\"\n",
        "elif bulan in [\"April\", \"Mei\"]:\n",
        "    musim = \"Spring\"\n",
        "elif bulan == \"Juni\":\n",
        "    musim = \"Spring\" if tgl < 21 else \"Summer\"\n",
        "elif bulan in [\"Juli\", \"Agustus\"]:\n",
        "    musim = \"Summer\"\n",
        "elif bulan == \"September\":\n",
        "    musim = \"Summer\" if tgl < 22 else \"Fall\"\n",
        "elif bulan in [\"Oktober\", \"November\"]:\n",
        "    musim = \"Fall\"\n",
        "elif bulan == \"Desember\":\n",
        "    musim = \"Fall\" if tgl < 21 else \"Winter\"\n",
        "else:\n",
        "    musim = \"Bulan tidak dikenali\"\n",
        "\n",
        "print(f\"{tgl} {bulan} adalah dalam musim {musim}\")\n"
      ]
    }
  ]
}