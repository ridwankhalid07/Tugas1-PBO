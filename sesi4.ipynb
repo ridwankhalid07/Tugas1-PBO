{
  "nbformat": 4,
  "nbformat_minor": 0,
  "metadata": {
    "colab": {
      "provenance": [],
      "authorship_tag": "ABX9TyPwv7rLoWWe1POqjKlg0vAI",
      "include_colab_link": true
    },
    "kernelspec": {
      "name": "python3",
      "display_name": "Python 3"
    },
    "language_info": {
      "name": "python"
    }
  },
  "cells": [
    {
      "cell_type": "markdown",
      "metadata": {
        "id": "view-in-github",
        "colab_type": "text"
      },
      "source": [
        "<a href=\"https://colab.research.google.com/github/ridwankhalid07/Tugas1-PBO/blob/main/sesi4.ipynb\" target=\"_parent\"><img src=\"https://colab.research.google.com/assets/colab-badge.svg\" alt=\"Open In Colab\"/></a>"
      ]
    },
    {
      "cell_type": "code",
      "execution_count": null,
      "metadata": {
        "id": "QXaL5SPtxGfP"
      },
      "outputs": [],
      "source": [
        "# ===== Fungsi tanpa parameter =====\n",
        "def salam_olahraga():\n",
        "    print(\"JANGAN LUPA OLAHRAGA HARI INI!\")\n",
        "\n",
        "# Memanggil fungsi tanpa parameter\n",
        "salam_olahraga()\n",
        "salam_olahraga()\n",
        "\n",
        "\n",
        "# ===== Fungsi dengan parameter =====\n",
        "def kenalan(nama):\n",
        "    print(\"Salam, \" + nama + \". Apa kabar?\")\n",
        "\n",
        "# Memanggil fungsi dengan argumen\n",
        "kenalan('Hamzah')\n",
        "\n",
        "\n",
        "# ===== Program mencari nilai median =====\n",
        "# Cara 1: Menggunakan logika perbandingan\n",
        "def median(a, b, c):\n",
        "    if (a < b < c) or (c < b < a):\n",
        "        return b\n",
        "    elif (b < a < c) or (c < a < b):\n",
        "        return a\n",
        "    else:\n",
        "        return c\n",
        "\n",
        "# Cara 2: Menggunakan operasi aritmatika\n",
        "def median2(a, b, c):\n",
        "    return a + b + c - min(a, b, c) - max(a, b, c)\n",
        "\n",
        "# Fungsi utama untuk input dan output\n",
        "def utama():\n",
        "    x = float(input(\"Masukkan nilai pertama: \"))\n",
        "    y = float(input(\"Masukkan nilai kedua: \"))\n",
        "    z = float(input(\"Masukkan nilai ketiga: \"))\n",
        "\n",
        "    print(\"Nilai median dengan cara pertama:\", median(x, y, z))\n",
        "    print(\"Nilai median dengan cara kedua:\", median2(x, y, z))\n",
        "\n",
        "# Menjalankan program\n",
        "utama()\n"
      ]
    }
  ]
}