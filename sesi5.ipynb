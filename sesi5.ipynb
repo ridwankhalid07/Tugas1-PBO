{
  "nbformat": 4,
  "nbformat_minor": 0,
  "metadata": {
    "colab": {
      "provenance": [],
      "authorship_tag": "ABX9TyPeVff//SZCAcor/riseO6m",
      "include_colab_link": true
    },
    "kernelspec": {
      "name": "python3",
      "display_name": "Python 3"
    },
    "language_info": {
      "name": "python"
    }
  },
  "cells": [
    {
      "cell_type": "markdown",
      "metadata": {
        "id": "view-in-github",
        "colab_type": "text"
      },
      "source": [
        "<a href=\"https://colab.research.google.com/github/ridwankhalid07/Tugas1-PBO/blob/main/sesi5.ipynb\" target=\"_parent\"><img src=\"https://colab.research.google.com/assets/colab-badge.svg\" alt=\"Open In Colab\"/></a>"
      ]
    },
    {
      "cell_type": "code",
      "execution_count": null,
      "metadata": {
        "id": "KMDwEtA3yDOy"
      },
      "outputs": [],
      "source": [
        "# ===== Program Membuat List =====\n",
        "list1 = [\"a\", \"b\", \"c\", \"d\"]\n",
        "list2 = ['bahasa arab', 'bahasa aceh', 2019, 2020]\n",
        "list3 = [1, 2, 3, 4, 5, 6, 7]\n",
        "\n",
        "# Mengakses Nilai list dalam Python\n",
        "print(\"list1[0]: \", list1[0])\n",
        "print(\"list2[1:3]: \", list2[1:3])\n",
        "print(\"list3[1:6]: \", list3[1:6])\n",
        "\n",
        "\n",
        "# ===== Mengupdate Nilai pada List =====\n",
        "list_ = ['bahasa arab', 'bahasa aceh', 2019, 2020]  # pakai variabel berbeda biar gak bentrok sama keyword list\n",
        "print(\"Nilai ada pada index 2 adalah: \", list_[2])\n",
        "\n",
        "# Update nilai list pada indeks 2\n",
        "list_[2] = 2018\n",
        "print(\"Nilai baru ada pada index 2 adalah: \", list_[2])\n",
        "\n",
        "\n",
        "# ===== Menghapus Nilai pada List =====\n",
        "list_del = ['bahasa arab', 'bahasa aceh', 2019, 2020]\n",
        "print(\"Daftar list sebelum dihapus:\", list_del)\n",
        "\n",
        "# Menghapus nilai list pada indeks 1\n",
        "del list_del[1]\n",
        "print(\"Setelah dihapus nilai pada index 1:\", list_del)\n"
      ]
    }
  ]
}