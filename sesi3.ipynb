{
  "nbformat": 4,
  "nbformat_minor": 0,
  "metadata": {
    "colab": {
      "provenance": [],
      "authorship_tag": "ABX9TyNAQxVengE1fP8m38mt/i8p",
      "include_colab_link": true
    },
    "kernelspec": {
      "name": "python3",
      "display_name": "Python 3"
    },
    "language_info": {
      "name": "python"
    }
  },
  "cells": [
    {
      "cell_type": "markdown",
      "metadata": {
        "id": "view-in-github",
        "colab_type": "text"
      },
      "source": [
        "<a href=\"https://colab.research.google.com/github/ridwankhalid07/Tugas1-PBO/blob/main/sesi3.ipynb\" target=\"_parent\"><img src=\"https://colab.research.google.com/assets/colab-badge.svg\" alt=\"Open In Colab\"/></a>"
      ]
    },
    {
      "cell_type": "code",
      "execution_count": null,
      "metadata": {
        "id": "IE3co7e7vOpC"
      },
      "outputs": [],
      "source": [
        "# ===== Contoh sederhana perulangan for =====\n",
        "contoh = 10\n",
        "\n",
        "for i in range(contoh):\n",
        "    print(\"Perulangan ke-\" + str(i))\n",
        "\n",
        "\n",
        "# ===== Menampilkan range dari kumpulan deret tertentu =====\n",
        "for i in range(5, 10):\n",
        "    print(i)\n",
        "\n",
        "\n",
        "# ===== Menampilkan isi list menggunakan for =====\n",
        "contoh2 = ['saya', 'suka', 'minum', 'kopi', 'gayo']\n",
        "\n",
        "for isi in contoh2:\n",
        "    print(isi)\n",
        "\n",
        "\n",
        "# ===== Contoh menggunakan while =====\n",
        "hit = 0\n",
        "\n",
        "while hit < 5:\n",
        "    print(hit, \"kurang dari 5\")\n",
        "    hit += 1\n",
        "else:\n",
        "    print(\"Salammmm\")\n",
        "\n",
        "\n",
        "# ===== Program Menghitung Faktor Persekutuan Terbesar (FPT) =====\n",
        "n = int(input(\"Masukkan bilangan positif pertama: \"))\n",
        "m = int(input(\"Masukkan bilangan positif kedua: \"))\n",
        "\n",
        "d = min(n, m)\n",
        "\n",
        "while n % d != 0 or m % d != 0:\n",
        "    d -= 1\n",
        "\n",
        "print(f\"Faktor persekutuan terbesar dari {n} dan {m} adalah {d}\")\n",
        "\n",
        "\n",
        "# ===== Program Mencari Nilai Maksimum dari 100 Bilangan Bulat =====\n",
        "from random import randrange\n",
        "\n",
        "BIL_ITEMS = 100\n",
        "\n",
        "maks_nilai = randrange(1, BIL_ITEMS + 1)\n",
        "print(maks_nilai)\n",
        "\n",
        "bil_update = 0\n",
        "\n",
        "for i in range(1, BIL_ITEMS):\n",
        "    current = randrange(1, BIL_ITEMS + 1)\n",
        "\n",
        "    if current > maks_nilai:\n",
        "        maks_nilai = current\n",
        "        bil_update += 1\n",
        "        print(current, \"<== Update\")\n",
        "    else:\n",
        "        print(current)\n",
        "\n",
        "print(\"Nilai maksimum yang ditemukan adalah\", maks_nilai)\n",
        "print(\"Nilai maksimum di-update sebanyak\", bil_update, \"kali\")\n"
      ]
    }
  ]
}